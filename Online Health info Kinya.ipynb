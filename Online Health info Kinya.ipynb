{
 "cells": [
  {
   "cell_type": "code",
   "execution_count": 88,
   "id": "9b4b0ba8",
   "metadata": {},
   "outputs": [],
   "source": [
    "import pyLDAvis.gensim_models as gensimvis\n",
    "import pandas as pd\n",
    "import numpy as np\n",
    "import nltk\n",
    "import re\n",
    "import string\n",
    "import gensim\n",
    "from gensim import corpora\n",
    "from nltk.tokenize import word_tokenize\n",
    "import matplotlib.pyplot as plt\n",
    "from nltk.probability import FreqDist\n",
    "import matplotlib.pyplot as plt\n",
    "import wordcloud\n",
    "from wordcloud import WordCloud\n",
    "# Plotting tools\n",
    "# import pyLDAvis\n",
    "# import pyLDAvis.gensim_models as gensimvis \n",
    "\n",
    "\n",
    "from sklearn.feature_extraction.text import CountVectorizer\n",
    "\n",
    "import warnings\n",
    "warnings.filterwarnings(\"ignore\",category=DeprecationWarning)\n",
    "from kkltk.kin_kir_stopwords import stopwords\n",
    "\n",
    "import pandas as pd\n",
    "from nltk.stem import PorterStemmer\n",
    "from nltk.tokenize import word_tokenize\n",
    "from kkltk.kin_kir_stopwords import stopwords\n",
    "from sklearn.decomposition import LatentDirichletAllocation"
   ]
  },
  {
   "cell_type": "code",
   "execution_count": 89,
   "id": "09b3333e",
   "metadata": {},
   "outputs": [],
   "source": [
    "# pip install pyLDAvis\n"
   ]
  },
  {
   "cell_type": "code",
   "execution_count": 90,
   "id": "7c7f8c9b",
   "metadata": {},
   "outputs": [],
   "source": [
    "# pip install kkltk"
   ]
  },
  {
   "cell_type": "code",
   "execution_count": 91,
   "id": "7540faec",
   "metadata": {},
   "outputs": [],
   "source": [
    "# pip install WordCloud"
   ]
  },
  {
   "cell_type": "code",
   "execution_count": 92,
   "id": "f00ef560",
   "metadata": {},
   "outputs": [],
   "source": [
    "data =  pd.read_csv('Final_Final_Dataset_Cleaned2.csv')"
   ]
  },
  {
   "cell_type": "code",
   "execution_count": 93,
   "id": "0761a41a",
   "metadata": {},
   "outputs": [
    {
     "data": {
      "text/html": [
       "<div>\n",
       "<style scoped>\n",
       "    .dataframe tbody tr th:only-of-type {\n",
       "        vertical-align: middle;\n",
       "    }\n",
       "\n",
       "    .dataframe tbody tr th {\n",
       "        vertical-align: top;\n",
       "    }\n",
       "\n",
       "    .dataframe thead th {\n",
       "        text-align: right;\n",
       "    }\n",
       "</style>\n",
       "<table border=\"1\" class=\"dataframe\">\n",
       "  <thead>\n",
       "    <tr style=\"text-align: right;\">\n",
       "      <th></th>\n",
       "      <th>0</th>\n",
       "    </tr>\n",
       "  </thead>\n",
       "  <tbody>\n",
       "    <tr>\n",
       "      <th>0</th>\n",
       "      <td>Nubwo kugeza ubu bitaragaragara niba umubyeyi ...</td>\n",
       "    </tr>\n",
       "    <tr>\n",
       "      <th>1</th>\n",
       "      <td>Ni ngombwa rero ko umugore utwite akaza ingamb...</td>\n",
       "    </tr>\n",
       "    <tr>\n",
       "      <th>2</th>\n",
       "      <td>Dukomeze kwirinda coronavirus twubahiriza inga...</td>\n",
       "    </tr>\n",
       "    <tr>\n",
       "      <th>3</th>\n",
       "      <td>Gukora imibonano mpuzabitsina mu gihe umugore ...</td>\n",
       "    </tr>\n",
       "    <tr>\n",
       "      <th>4</th>\n",
       "      <td>Nk’uko bitangazwa n’urubuga babycenter.fr, nib...</td>\n",
       "    </tr>\n",
       "    <tr>\n",
       "      <th>...</th>\n",
       "      <td>...</td>\n",
       "    </tr>\n",
       "    <tr>\n",
       "      <th>2645</th>\n",
       "      <td>Uruhare rwamazi mu kongera ubwiza bwawe</td>\n",
       "    </tr>\n",
       "    <tr>\n",
       "      <th>2646</th>\n",
       "      <td>Impamvu zishobora gutera kubira ibyuya byinshi...</td>\n",
       "    </tr>\n",
       "    <tr>\n",
       "      <th>2647</th>\n",
       "      <td>Ibiryo 10 byingenzi ku mugore utwite</td>\n",
       "    </tr>\n",
       "    <tr>\n",
       "      <th>2648</th>\n",
       "      <td>Dore ibimenyetso bishobora kukwereka niba utwite</td>\n",
       "    </tr>\n",
       "    <tr>\n",
       "      <th>2649</th>\n",
       "      <td>Byinshi ku kwikinisha. Ibyiza byabyo, ibibi, n...</td>\n",
       "    </tr>\n",
       "  </tbody>\n",
       "</table>\n",
       "<p>2650 rows × 1 columns</p>\n",
       "</div>"
      ],
      "text/plain": [
       "                                                      0\n",
       "0     Nubwo kugeza ubu bitaragaragara niba umubyeyi ...\n",
       "1     Ni ngombwa rero ko umugore utwite akaza ingamb...\n",
       "2     Dukomeze kwirinda coronavirus twubahiriza inga...\n",
       "3     Gukora imibonano mpuzabitsina mu gihe umugore ...\n",
       "4     Nk’uko bitangazwa n’urubuga babycenter.fr, nib...\n",
       "...                                                 ...\n",
       "2645           Uruhare rwamazi mu kongera ubwiza bwawe\n",
       "2646  Impamvu zishobora gutera kubira ibyuya byinshi...\n",
       "2647              Ibiryo 10 byingenzi ku mugore utwite\n",
       "2648   Dore ibimenyetso bishobora kukwereka niba utwite\n",
       "2649  Byinshi ku kwikinisha. Ibyiza byabyo, ibibi, n...\n",
       "\n",
       "[2650 rows x 1 columns]"
      ]
     },
     "execution_count": 93,
     "metadata": {},
     "output_type": "execute_result"
    }
   ],
   "source": [
    "data"
   ]
  },
  {
   "cell_type": "code",
   "execution_count": 94,
   "id": "7c036191",
   "metadata": {},
   "outputs": [],
   "source": [
    "data = data.rename(columns={'0': 'Content'})"
   ]
  },
  {
   "cell_type": "code",
   "execution_count": 95,
   "id": "0fa05859",
   "metadata": {},
   "outputs": [
    {
     "name": "stdout",
     "output_type": "stream",
     "text": [
      "Total number of words: 48368\n"
     ]
    }
   ],
   "source": [
    "# Sample corpus\n",
    "corpus =data['Content'].values\n",
    "\n",
    "# Tokenize and count words in the corpus\n",
    "total_words = 0\n",
    "word_count = {}\n",
    "for document in corpus:\n",
    "    tokens = word_tokenize(document)\n",
    "    total_words += len(tokens)\n",
    "    for token in tokens:\n",
    "        if token not in word_count:\n",
    "            word_count[token] = 1\n",
    "        else:\n",
    "            word_count[token] += 1\n",
    "\n",
    "print(\"Total number of words:\", total_words)"
   ]
  },
  {
   "cell_type": "code",
   "execution_count": 96,
   "id": "5f11ae50",
   "metadata": {},
   "outputs": [],
   "source": [
    "def remove_punctuation(text):\n",
    "    # Use the translate method to remove punctuation characters\n",
    "    translator = str.maketrans('', '', string.punctuation)\n",
    "    return text.translate(translator)\n",
    "\n",
    "\n",
    "# data['Content_cleaned'].apply(remove_english_words)\n",
    "data['Content'] = data['Content'].apply(remove_punctuation)"
   ]
  },
  {
   "cell_type": "code",
   "execution_count": 97,
   "id": "b563e033",
   "metadata": {},
   "outputs": [
    {
     "name": "stdout",
     "output_type": "stream",
     "text": [
      "Total number of words: 42894\n"
     ]
    }
   ],
   "source": [
    "# Sample corpus\n",
    "corpus =data['Content'].values\n",
    "\n",
    "# Tokenize and count words in the corpus\n",
    "total_words = 0\n",
    "word_count = {}\n",
    "for document in corpus:\n",
    "    tokens = word_tokenize(document)\n",
    "    total_words += len(tokens)\n",
    "    for token in tokens:\n",
    "        if token not in word_count:\n",
    "            word_count[token] = 1\n",
    "        else:\n",
    "            word_count[token] += 1\n",
    "\n",
    "print(\"Total number of words:\", total_words)"
   ]
  },
  {
   "cell_type": "code",
   "execution_count": 98,
   "id": "d5a66e9e",
   "metadata": {},
   "outputs": [],
   "source": [
    "# Loop through each row in the DataFrame\n",
    "english_words = set(nltk.corpus.words.words())  # Get a set of English words from NLTK\n",
    "cleaned_sentences = []\n",
    "for index, row in data.iterrows():\n",
    "    cleaned_sentence = \"\"\n",
    "    for word in row[0].split(\" \"):\n",
    "        cleaned_word = word.replace(\".\", \"\").replace(\",\", \"\").replace(\"'\", \"\").replace(\"’\", \"\")\n",
    "        if cleaned_word not in english_words:\n",
    "            cleaned_sentence += \" \" + cleaned_word\n",
    "    \n",
    "    cleaned_sentences.append(cleaned_sentence[1:])\n",
    "\n",
    "# Create a new DataFrame to store cleaned people data\n",
    "cleaned_DataFrame = pd.DataFrame({\"Content\":cleaned_sentences})"
   ]
  },
  {
   "cell_type": "code",
   "execution_count": 99,
   "id": "95c03a9c",
   "metadata": {},
   "outputs": [
    {
     "data": {
      "text/html": [
       "<div>\n",
       "<style scoped>\n",
       "    .dataframe tbody tr th:only-of-type {\n",
       "        vertical-align: middle;\n",
       "    }\n",
       "\n",
       "    .dataframe tbody tr th {\n",
       "        vertical-align: top;\n",
       "    }\n",
       "\n",
       "    .dataframe thead th {\n",
       "        text-align: right;\n",
       "    }\n",
       "</style>\n",
       "<table border=\"1\" class=\"dataframe\">\n",
       "  <thead>\n",
       "    <tr style=\"text-align: right;\">\n",
       "      <th></th>\n",
       "      <th>Content</th>\n",
       "    </tr>\n",
       "  </thead>\n",
       "  <tbody>\n",
       "    <tr>\n",
       "      <th>0</th>\n",
       "      <td>Nubwo kugeza ubu bitaragaragara niba umubyeyi ...</td>\n",
       "    </tr>\n",
       "    <tr>\n",
       "      <th>1</th>\n",
       "      <td>Ni ngombwa rero umugore utwite akaza ingamba k...</td>\n",
       "    </tr>\n",
       "    <tr>\n",
       "      <th>2</th>\n",
       "      <td>Dukomeze kwirinda coronavirus twubahiriza inga...</td>\n",
       "    </tr>\n",
       "    <tr>\n",
       "      <th>3</th>\n",
       "      <td>Gukora imibonano mpuzabitsina gihe umugore atw...</td>\n",
       "    </tr>\n",
       "    <tr>\n",
       "      <th>4</th>\n",
       "      <td>Nkuko bitangazwa nurubuga babycenterfr niba ut...</td>\n",
       "    </tr>\n",
       "    <tr>\n",
       "      <th>...</th>\n",
       "      <td>...</td>\n",
       "    </tr>\n",
       "    <tr>\n",
       "      <th>2645</th>\n",
       "      <td>Uruhare rwamazi kongera ubwiza bwawe</td>\n",
       "    </tr>\n",
       "    <tr>\n",
       "      <th>2646</th>\n",
       "      <td>Impamvu zishobora gutera kubira ibyuya byinshi...</td>\n",
       "    </tr>\n",
       "    <tr>\n",
       "      <th>2647</th>\n",
       "      <td>Ibiryo 10 byingenzi ku mugore utwite</td>\n",
       "    </tr>\n",
       "    <tr>\n",
       "      <th>2648</th>\n",
       "      <td>Dore ibimenyetso bishobora kukwereka niba utwite</td>\n",
       "    </tr>\n",
       "    <tr>\n",
       "      <th>2649</th>\n",
       "      <td>Byinshi ku kwikinisha Ibyiza byabyo ibibi nuk...</td>\n",
       "    </tr>\n",
       "  </tbody>\n",
       "</table>\n",
       "<p>2650 rows × 1 columns</p>\n",
       "</div>"
      ],
      "text/plain": [
       "                                                Content\n",
       "0     Nubwo kugeza ubu bitaragaragara niba umubyeyi ...\n",
       "1     Ni ngombwa rero umugore utwite akaza ingamba k...\n",
       "2     Dukomeze kwirinda coronavirus twubahiriza inga...\n",
       "3     Gukora imibonano mpuzabitsina gihe umugore atw...\n",
       "4     Nkuko bitangazwa nurubuga babycenterfr niba ut...\n",
       "...                                                 ...\n",
       "2645              Uruhare rwamazi kongera ubwiza bwawe\n",
       "2646  Impamvu zishobora gutera kubira ibyuya byinshi...\n",
       "2647              Ibiryo 10 byingenzi ku mugore utwite\n",
       "2648   Dore ibimenyetso bishobora kukwereka niba utwite\n",
       "2649  Byinshi ku kwikinisha Ibyiza byabyo ibibi nuk...\n",
       "\n",
       "[2650 rows x 1 columns]"
      ]
     },
     "execution_count": 99,
     "metadata": {},
     "output_type": "execute_result"
    }
   ],
   "source": [
    "cleaned_DataFrame"
   ]
  },
  {
   "cell_type": "code",
   "execution_count": 100,
   "id": "62ca8e9a",
   "metadata": {},
   "outputs": [
    {
     "name": "stdout",
     "output_type": "stream",
     "text": [
      "Total number of words: 34501\n"
     ]
    }
   ],
   "source": [
    "# Sample corpus\n",
    "corpus = cleaned_DataFrame['Content'].values\n",
    "\n",
    "# Tokenize and count words in the corpus\n",
    "total_words = 0\n",
    "word_count = {}\n",
    "for document in corpus:\n",
    "    tokens = word_tokenize(document)\n",
    "    total_words += len(tokens)\n",
    "    for token in tokens:\n",
    "        if token not in word_count:\n",
    "            word_count[token] = 1\n",
    "        else:\n",
    "            word_count[token] += 1\n",
    "\n",
    "print(\"Total number of words:\", total_words)\n"
   ]
  },
  {
   "cell_type": "code",
   "execution_count": 101,
   "id": "4039430d",
   "metadata": {},
   "outputs": [
    {
     "data": {
      "text/html": [
       "<div>\n",
       "<style scoped>\n",
       "    .dataframe tbody tr th:only-of-type {\n",
       "        vertical-align: middle;\n",
       "    }\n",
       "\n",
       "    .dataframe tbody tr th {\n",
       "        vertical-align: top;\n",
       "    }\n",
       "\n",
       "    .dataframe thead th {\n",
       "        text-align: right;\n",
       "    }\n",
       "</style>\n",
       "<table border=\"1\" class=\"dataframe\">\n",
       "  <thead>\n",
       "    <tr style=\"text-align: right;\">\n",
       "      <th></th>\n",
       "      <th>Content</th>\n",
       "    </tr>\n",
       "  </thead>\n",
       "  <tbody>\n",
       "    <tr>\n",
       "      <th>0</th>\n",
       "      <td>Nubwo kugeza bitaragaragara umubyeyi yakwanduz...</td>\n",
       "    </tr>\n",
       "    <tr>\n",
       "      <th>1</th>\n",
       "      <td>ngombwa umugore utwite akaza ingamba kwirinda ...</td>\n",
       "    </tr>\n",
       "    <tr>\n",
       "      <th>2</th>\n",
       "      <td>Dukomeze kwirinda coronavirus twubahiriza inga...</td>\n",
       "    </tr>\n",
       "    <tr>\n",
       "      <th>3</th>\n",
       "      <td>Gukora imibonano mpuzabitsina gihe umugore atw...</td>\n",
       "    </tr>\n",
       "    <tr>\n",
       "      <th>4</th>\n",
       "      <td>Nkuko bitangazwa nurubuga babycenterfr utwite ...</td>\n",
       "    </tr>\n",
       "    <tr>\n",
       "      <th>...</th>\n",
       "      <td>...</td>\n",
       "    </tr>\n",
       "    <tr>\n",
       "      <th>2645</th>\n",
       "      <td>Uruhare rwamazi kongera ubwiza bwawe</td>\n",
       "    </tr>\n",
       "    <tr>\n",
       "      <th>2646</th>\n",
       "      <td>Impamvu zishobora gutera kubira ibyuya byinshi...</td>\n",
       "    </tr>\n",
       "    <tr>\n",
       "      <th>2647</th>\n",
       "      <td>Ibiryo 10 byingenzi mugore utwite</td>\n",
       "    </tr>\n",
       "    <tr>\n",
       "      <th>2648</th>\n",
       "      <td>Dore ibimenyetso bishobora kukwereka utwite</td>\n",
       "    </tr>\n",
       "    <tr>\n",
       "      <th>2649</th>\n",
       "      <td>Byinshi kwikinisha Ibyiza byabyo ibibi nuko w...</td>\n",
       "    </tr>\n",
       "  </tbody>\n",
       "</table>\n",
       "<p>2650 rows × 1 columns</p>\n",
       "</div>"
      ],
      "text/plain": [
       "                                                Content\n",
       "0     Nubwo kugeza bitaragaragara umubyeyi yakwanduz...\n",
       "1     ngombwa umugore utwite akaza ingamba kwirinda ...\n",
       "2     Dukomeze kwirinda coronavirus twubahiriza inga...\n",
       "3     Gukora imibonano mpuzabitsina gihe umugore atw...\n",
       "4     Nkuko bitangazwa nurubuga babycenterfr utwite ...\n",
       "...                                                 ...\n",
       "2645              Uruhare rwamazi kongera ubwiza bwawe\n",
       "2646  Impamvu zishobora gutera kubira ibyuya byinshi...\n",
       "2647                 Ibiryo 10 byingenzi mugore utwite\n",
       "2648        Dore ibimenyetso bishobora kukwereka utwite\n",
       "2649  Byinshi kwikinisha Ibyiza byabyo ibibi nuko w...\n",
       "\n",
       "[2650 rows x 1 columns]"
      ]
     },
     "execution_count": 101,
     "metadata": {},
     "output_type": "execute_result"
    }
   ],
   "source": [
    "# Load Kinyarwanda and Kirundi stop words\n",
    "stopset_kin = stopwords.words('kinyarwanda')\n",
    "stopset_kir = stopwords.words('kirundi')\n",
    "\n",
    "# Function to remove Kinyarwanda and Kirundi stop words from the text\n",
    "def remove_stopwords(text, stopwords_set):\n",
    "    words = text.split()\n",
    "    cleaned_words = []\n",
    "    for word in words:\n",
    "        if word.lower() not in stopwords_set:\n",
    "            cleaned_words.append(word)\n",
    "    return ' '.join(cleaned_words)\n",
    "\n",
    "# Apply the function to remove Kinyarwanda and Kirundi stop words from the 'Content_cleaned' column\n",
    "for i in range(len(cleaned_DataFrame['Content'])):\n",
    "    cleaned_DataFrame['Content'][i] = remove_stopwords(cleaned_DataFrame['Content'][i], set(stopset_kin).union(stopset_kir))\n",
    "\n",
    "# Print the DataFrame with the cleaned column\n",
    "cleaned_DataFrame"
   ]
  },
  {
   "cell_type": "code",
   "execution_count": 102,
   "id": "6758d85f",
   "metadata": {},
   "outputs": [
    {
     "name": "stdout",
     "output_type": "stream",
     "text": [
      "Total number of words: 30789\n"
     ]
    }
   ],
   "source": [
    "# Sample corpus\n",
    "corpus = cleaned_DataFrame['Content'].values\n",
    "\n",
    "# Tokenize and count words in the corpus\n",
    "total_words = 0\n",
    "word_count = {}\n",
    "for document in corpus:\n",
    "    tokens = word_tokenize(document)\n",
    "    total_words += len(tokens)\n",
    "    for token in tokens:\n",
    "        if token not in word_count:\n",
    "            word_count[token] = 1\n",
    "        else:\n",
    "            word_count[token] += 1\n",
    "\n",
    "print(\"Total number of words:\", total_words)"
   ]
  },
  {
   "cell_type": "code",
   "execution_count": 103,
   "id": "1f715755",
   "metadata": {},
   "outputs": [],
   "source": [
    "# Function to remove numbers from the text\n",
    "def remove_numbers(text):\n",
    "    return re.sub(r'\\d+', '', text)\n",
    "\n",
    "# Apply the function to remove numbers from the 'Text' column in the DataFrame\n",
    "cleaned_DataFrame['Content'] = cleaned_DataFrame['Content'].apply(remove_numbers)\n",
    "\n",
    "# Print the DataFrame with the text without numbers\n"
   ]
  },
  {
   "cell_type": "code",
   "execution_count": 104,
   "id": "59a806ce",
   "metadata": {},
   "outputs": [
    {
     "name": "stdout",
     "output_type": "stream",
     "text": [
      "Total number of words: 30019\n"
     ]
    }
   ],
   "source": [
    "# Sample corpus\n",
    "corpus = cleaned_DataFrame['Content'].values\n",
    "\n",
    "# Tokenize and count words in the corpus\n",
    "total_words = 0\n",
    "word_count = {}\n",
    "for document in corpus:\n",
    "    tokens = word_tokenize(document)\n",
    "    total_words += len(tokens)\n",
    "    for token in tokens:\n",
    "        if token not in word_count:\n",
    "            word_count[token] = 1\n",
    "        else:\n",
    "            word_count[token] += 1\n",
    "\n",
    "print(\"Total number of words:\", total_words)"
   ]
  },
  {
   "cell_type": "code",
   "execution_count": 105,
   "id": "47fac245",
   "metadata": {},
   "outputs": [
    {
     "data": {
      "text/html": [
       "<div>\n",
       "<style scoped>\n",
       "    .dataframe tbody tr th:only-of-type {\n",
       "        vertical-align: middle;\n",
       "    }\n",
       "\n",
       "    .dataframe tbody tr th {\n",
       "        vertical-align: top;\n",
       "    }\n",
       "\n",
       "    .dataframe thead th {\n",
       "        text-align: right;\n",
       "    }\n",
       "</style>\n",
       "<table border=\"1\" class=\"dataframe\">\n",
       "  <thead>\n",
       "    <tr style=\"text-align: right;\">\n",
       "      <th></th>\n",
       "      <th>Content</th>\n",
       "      <th>Stemmed_Text</th>\n",
       "    </tr>\n",
       "  </thead>\n",
       "  <tbody>\n",
       "    <tr>\n",
       "      <th>0</th>\n",
       "      <td>Nubwo kugeza bitaragaragara umubyeyi yakwanduz...</td>\n",
       "      <td>Nubwo kugeza bitaragaragara umubyeyi yakwanduz...</td>\n",
       "    </tr>\n",
       "    <tr>\n",
       "      <th>1</th>\n",
       "      <td>ngombwa umugore utwite akaza ingamba kwirinda ...</td>\n",
       "      <td>ngombwa umugore utwite akaza ingamba kwirinda ...</td>\n",
       "    </tr>\n",
       "    <tr>\n",
       "      <th>2</th>\n",
       "      <td>Dukomeze kwirinda coronavirus twubahiriza inga...</td>\n",
       "      <td>Dukomeze kwirinda coronavirus twubahiriza inga...</td>\n",
       "    </tr>\n",
       "    <tr>\n",
       "      <th>3</th>\n",
       "      <td>Gukora imibonano mpuzabitsina gihe umugore atw...</td>\n",
       "      <td>Gukora imibonano mpuzabitsina gihe umugore atw...</td>\n",
       "    </tr>\n",
       "    <tr>\n",
       "      <th>4</th>\n",
       "      <td>Nkuko bitangazwa nurubuga babycenterfr utwite ...</td>\n",
       "      <td>Nkuko bitangazwa nurubuga babycenterfr utwite ...</td>\n",
       "    </tr>\n",
       "    <tr>\n",
       "      <th>...</th>\n",
       "      <td>...</td>\n",
       "      <td>...</td>\n",
       "    </tr>\n",
       "    <tr>\n",
       "      <th>2645</th>\n",
       "      <td>Uruhare rwamazi kongera ubwiza bwawe</td>\n",
       "      <td>Uruhare rwamazi kongera ubwiza bwawe</td>\n",
       "    </tr>\n",
       "    <tr>\n",
       "      <th>2646</th>\n",
       "      <td>Impamvu zishobora gutera kubira ibyuya byinshi...</td>\n",
       "      <td>Impamvu zishobora gutera kubira ibyuya byinshi...</td>\n",
       "    </tr>\n",
       "    <tr>\n",
       "      <th>2647</th>\n",
       "      <td>Ibiryo  byingenzi mugore utwite</td>\n",
       "      <td>Ibiryo byingenzi mugore utwite</td>\n",
       "    </tr>\n",
       "    <tr>\n",
       "      <th>2648</th>\n",
       "      <td>Dore ibimenyetso bishobora kukwereka utwite</td>\n",
       "      <td>Dore ibimenyetso bishobora kukwereka utwite</td>\n",
       "    </tr>\n",
       "    <tr>\n",
       "      <th>2649</th>\n",
       "      <td>Byinshi kwikinisha Ibyiza byabyo ibibi nuko w...</td>\n",
       "      <td>Byinshi kwikinisha Ibyiza byabyo ibibi nuko w...</td>\n",
       "    </tr>\n",
       "  </tbody>\n",
       "</table>\n",
       "<p>2650 rows × 2 columns</p>\n",
       "</div>"
      ],
      "text/plain": [
       "                                                Content  \\\n",
       "0     Nubwo kugeza bitaragaragara umubyeyi yakwanduz...   \n",
       "1     ngombwa umugore utwite akaza ingamba kwirinda ...   \n",
       "2     Dukomeze kwirinda coronavirus twubahiriza inga...   \n",
       "3     Gukora imibonano mpuzabitsina gihe umugore atw...   \n",
       "4     Nkuko bitangazwa nurubuga babycenterfr utwite ...   \n",
       "...                                                 ...   \n",
       "2645              Uruhare rwamazi kongera ubwiza bwawe   \n",
       "2646  Impamvu zishobora gutera kubira ibyuya byinshi...   \n",
       "2647                   Ibiryo  byingenzi mugore utwite   \n",
       "2648        Dore ibimenyetso bishobora kukwereka utwite   \n",
       "2649  Byinshi kwikinisha Ibyiza byabyo ibibi nuko w...   \n",
       "\n",
       "                                           Stemmed_Text  \n",
       "0     Nubwo kugeza bitaragaragara umubyeyi yakwanduz...  \n",
       "1     ngombwa umugore utwite akaza ingamba kwirinda ...  \n",
       "2     Dukomeze kwirinda coronavirus twubahiriza inga...  \n",
       "3     Gukora imibonano mpuzabitsina gihe umugore atw...  \n",
       "4     Nkuko bitangazwa nurubuga babycenterfr utwite ...  \n",
       "...                                                 ...  \n",
       "2645              Uruhare rwamazi kongera ubwiza bwawe  \n",
       "2646  Impamvu zishobora gutera kubira ibyuya byinshi...  \n",
       "2647                    Ibiryo byingenzi mugore utwite  \n",
       "2648        Dore ibimenyetso bishobora kukwereka utwite  \n",
       "2649  Byinshi kwikinisha Ibyiza byabyo ibibi nuko w...  \n",
       "\n",
       "[2650 rows x 2 columns]"
      ]
     },
     "execution_count": 105,
     "metadata": {},
     "output_type": "execute_result"
    }
   ],
   "source": [
    "\n",
    "# Create a PorterStemmer instance\n",
    "stemmer = PorterStemmer()\n",
    "\n",
    "# Function to apply stemming to each word in the text\n",
    "def stem_text(text):\n",
    "    words = word_tokenize(text)  # Tokenize the text into words\n",
    "    stemmed_words = [stemmer.stem(word) if word in english_words else word for word in words]  # Stem only English words\n",
    "    return ' '.join(stemmed_words)  # Join the stemmed words back into a single string\n",
    "\n",
    "# Apply stemming to the 'Content_cleaned' column in the DataFrame\n",
    "cleaned_DataFrame['Stemmed_Text'] = cleaned_DataFrame['Content'].apply(stem_text)\n",
    "\n",
    "# Print the DataFrame with the stemmed text\n",
    "cleaned_DataFrame"
   ]
  },
  {
   "cell_type": "code",
   "execution_count": 106,
   "id": "c724762d",
   "metadata": {},
   "outputs": [
    {
     "name": "stdout",
     "output_type": "stream",
     "text": [
      "Total number of words: 30019\n"
     ]
    }
   ],
   "source": [
    "# Sample corpus\n",
    "corpus = cleaned_DataFrame['Stemmed_Text'].values\n",
    "\n",
    "# Tokenize and count words in the corpus\n",
    "total_words = 0\n",
    "word_count = {}\n",
    "for document in corpus:\n",
    "    tokens = word_tokenize(document)\n",
    "    total_words += len(tokens)\n",
    "    for token in tokens:\n",
    "        if token not in word_count:\n",
    "            word_count[token] = 1\n",
    "        else:\n",
    "            word_count[token] += 1\n",
    "\n",
    "print(\"Total number of words:\", total_words)"
   ]
  },
  {
   "cell_type": "code",
   "execution_count": 107,
   "id": "c816d3db",
   "metadata": {},
   "outputs": [],
   "source": [
    "words_set = {\n",
    "    'email', 'video', 'views', 'amOctober', 'babycenterfr', 'gynécologue', 'Lépais', 'bouchon', 'muqueux',\n",
    "    'liquide', '“', '”', 'très', 'utvvite', 'cracher', 'wwwlamaisondesmaternellesfr', 'fécondation',\n",
    "    'grossesse', 'évolutive', 'cellules', 'œuf', 'clair', 'chromosomes', 'spermatozoïdes', 'échographie',\n",
    "    'aspir', 'curetage', 'Britney', 'Spears', 'Preclampsia', 'posts', '„', 'Thê', 'Fîçk', 'Gêê',\n",
    "    'UMUGANGAcom', 'SADC', 'HDL', 'LDL', 'β', 'Hcg', '�', 'OMS', 'Results', 'Settings', 'Montjalinews',\n",
    "    'Éclampsie', 'millimetre', 'Prééclampsie', 'Croix', 'du', 'volante', 'yimpyikoMarch', 'Sep', 'septemb',\n",
    "    'Apr', 'april', 'Oct', 'octob', '©', 'Montjalinewsnet', 'USD', 'Colleges', 'published', 'Required',\n",
    "    'fields', 'Website', 'Captcha', '©Umurengezi', 'Username', 'escaliers', 'tonique', 'Vehicles',\n",
    "    'comments', 'Piqué', 'XVI', 'infoumuravarw', 'SupportNSDS', 'DS', 'FARG', 'karongidistrictkarongigovrw',\n",
    "    '→', 'Pfizer', 'Services', 'Hospitals', 'includes', 'departments', 'patients', 'outcomes', 'goals',\n",
    "    'hours', 'staffing', 'plans', 'servicesdepartment', 'Doctors', 'defines', 'facilities', 'needed',\n",
    "    'AuthorityTMDA', 'Khea', 'TMDA', 'RemeraARJRMC', 'KG', 'AV', 'Xinhua', 'Prev', 'Posts', 'zi…', 'Transfers',\n",
    "    'Kovacić', 'LoftusCheek', 'Cuadrado', 'Ziyech', 'RwandAir', 'Tshisekedi', 'Google', 'emailed',\n",
    "    'httpswwwkigalitodaycomamakuruamakurumurwandaarticleabashinzwekwitakumirireyabananabagorebatwitebatanzeigicecyibyobagombagagutanga',\n",
    "    'Improved', 'Foods', 'AgriPark', 'Silos', 'Plots', 'KigaliRwanda', 'infoafricaimprovedfoodscom',\n",
    "    'Download', 'MB', 'infobugeseragovrw', 'parainage', 'infobugeseragovrw', 'r', 'Zimbraecommended',\n",
    "    'Zimbra', 'Functions', 'Kinders', 'eyes', 'Contained', 'purposes', 'journalists', 'warranties',\n",
    "    'implied', 'products', 'articles', 'including', 'arising', 'websites', 'sites', 'HoweverYEGOB', 'YEGOBRW',\n",
    "    'takes', 'issues', 'screensho', 'Javascript', 'detected', 'required', 'settings', 'Notifications',\n",
    "    'Carrasco', 'Erin', 'KN', 'infoumuryangorw', 'Lagos', 'RADIOTV', 'radioTV', 'FM', 'TV', 'Rwandaful',\n",
    "    'stories', 'verified', 'NCDs', 'cg', 'subscribers', 'updates', 'offers', 'inbox', 'Women', 'Men',\n",
    "    'Vit', 'DHS', 'TodayKT', 'wu', 'ki', 'Youssef', 'Rharb', 'mg', 'coldcap', 'febrilex', 'dacold',\n",
    "    'coldarest', 'flucoldex', 'httpsumutihealthcomfarumasiyeumuhangamubyerekeyeimiti', 'Grossesse', 'le',\n",
    "    'relaxin', '«', 'folic', 'httpsumutihealthcomakamarokafolicacidkumugoreutwite', 'bec', 'lievre',\n",
    "    'httpsumutihealthcomkubyara', '❖', 'HCG', 'Cleverland', 'PreEclampsia', '.', 'clots', 'fer', 'KT',\n",
    "    'Vin', 'Eau', 'javel', 'eau', 'plastike', 'Afrikmagcom', 'vitamins', 'proteins', 'subsalicylate',\n",
    "    'Brompheniramine', 'Chlorpheniramine', 'Ibuprofen', 'Naproxen', 'Phenylephrine', 'PB', 'NUBW', 'ubw',\n",
    "    '•', 'yaby', 'ashob', 'II', 'kg', 'III', 'BWIZAIII', '⁄', 'IV', 'N°', 'cm', 'inni', 'ikin', 'PLos',\n",
    "    'Norvège', 'terre', 'UM-', 'USEKECOM', 'lendemain', 'levonorgestrel', 'vyose', 'KCUPDATESCOMhttpswwwkcupdatescom',\n",
    "    '›', 'wabujijweBBChttpswwwbbccom', 'ubuzimainfohttpswwwubuzimainforw', 'gusamaUmusekehttpsarumusekerw',\n",
    "    'Facebookhttpswwwfacebookcom', 'menyabyinshik', 'Impanorwhttpsimpanorw', 'Umuryangohttpsumuryangorw',\n",
    "    'adrestricted', 'mugor', 'levonorgestrol', 'Umusekecom', 'hos', 'ergusa', 'years', 'EURI', 'ans',\n",
    "    'Esteban', 'Landrau', 'Danna', 'Colombia', 'src', 'img', 'datalazyfallback', 'datalazyfallback',\n",
    "    'decodingasync', 'loadinglazy', 'classalignnone', 'wpimage','srchttpsiwpcomimirasiretvcomwpcontentuploadsuyumugaboyahisemogutwitamucyimbocyumugorewedannasultanaexjpgresizeCssl',\n",
    "    'srcsethttpsiwpcomimirasiretvcomwpcontentuploadsuyumugaboyahisemogutwitamucyimbocyumugorewedannasultanaejpgresizeCampssl',\n",
    "    'httpsiwpcomimirasiretvcomwpcontentuploadsuyumugaboyahisemogutwitamucyimbocyumugorewedannasultanaejpgresizeCampssl',\n",
    "    'sizesmaxwidth', 'px', 'vw', 'datarecalcdims', 'Easwood', 'leoncia', 'Ltd', 'Wu', 'Kid', 'kid', 'FASACO',\n",
    "    'Asbl', 'HOMEAHABANZA', 'infomysitecom', 'fasacogmailcom', 'uwizeyeemmanuelgmailcom', 'phil', 'created',\n",
    "    'Wixcom', 'Dieu', 'Goodings', 'uses', 'youre', 'ok', 'optout', 'n', 'CLADHO', 'Center', 'assessment', 'NCC',\n",
    "    'yu', 'iAccelerator', 'centre', 'todayJuly', 'Ykee', 'celebrities', 'celeb', 'celebr', 'hottest', 'photos',\n",
    "    'movies', 'shows', 'httpswwwthechoicelivecombanyampingabaryumyehoabandibagaragazaamarangamutimakuriprincekidnamisselsa',\n",
    "    'messages', 'having', 'Howeverthis', 'popularitykindly', 'deservesthisisjolly', 'NIldephonse', 'Feb', 'HIFI',\n",
    "    'LTD', 'AAP', 'Instagram', 'Telecom', 'Taarifarw', 'OEMBiremewe', 'zippers', 'flannelByoroshye', 'pricelist',\n",
    "    'Infohanyunhomecom', 'hangzhouhanyuncom', 'ovulation', 'filsantejeunes', 'louismaximegmailcom',\n",
    "    'wwwdusabanewordpresscom', 'blog', 'bw', 'using', 'methods', 'commenting', 'WordPresscom', 'Connecting',\n",
    "    'wwwigitubaorg', 'RBCIHDPC', 'httpschemasgooglecombloggerkindpost', 'ZIGITUBA', 'notifications',\n",
    "    'impanogroupgmailcom', 'JournalistFreelancer', 'LinkedIn', 'Id', 'postings', 'focusing', 'connectings',\n",
    "    'hiring', 'managers', 'skills', 'endorsing', 'Getty', 'Images', 'Los', 'Podcast', 'games', 'spam', 'Akismet',\n",
    "    'processed', 'aspirations', 'HDI', 'oxigene', 'w', 'y', 'EditorDr', 'Votre', 'est', 'intéressante',\n",
    "    'jaimerais', 'savoir', 'aussi', 'qui', 'concerne', 'maladies', 'drépanocytose', 'AdvertisementGutwita',\n",
    "    'Afrimax', 'sizefull', 'srchttpsiwpcomradiotvrwwpcontentuploadsScreenShotatpngresizeCssl',\n",
    "    'srcsethttpsiwpcomradiotvrwwpcontentuploadsScreenShotatpngwampssl',\n",
    "    'httpsiwpcomradiotvrwwpcontentuploadsScreenShotatpngresizeCampssl', 'hCG', 'jw', 'Tico', 'Tools', 'Flinf',\n",
    "    'Huw', 'online', 'provides', 'achievements', 'Echographie', 'Src', 'umutihealth', 'PE', 'femenin', 'WHATSAPP',\n",
    "    'grossess', 'uf', 'spermatozoïdes', 'BK', 'Chiffa', 'Ayoo', 'Tems', 'Titch', 'APR', 'FC', 'Sc', 'Wejscie',\n",
    "    'oficjalna', 'Mostbet', 'logowanie', 'przez', 'sieci', 'spolecznosciowe' , 'all', ' rw', 'cy', 'bw','britney','spears','cy','rights','by','reserved','Share'\n",
    "}\n"
   ]
  },
  {
   "cell_type": "code",
   "execution_count": 108,
   "id": "4c1fd768",
   "metadata": {},
   "outputs": [],
   "source": [
    "# List of words\n",
    "words_list2 = ['fibre', 'website', 'Home', 'Éclampsie', 'vinaigre', 'Sultana', 'JoCare', 'omega', 'Prééclampsie', 'Website', 'Africa', 'Preclampsia',\n",
    "              'Menu', 'Source', 'Medicine', 'Caffeine', 'Norvège', 'folique', 'Assia', 'More', 'Lorna', 'échographie', 'Linea', 'fatti', 'Private',\n",
    "              'Rice', 'Welcome', 'Google', 'Free', 'programe', 'Carrasco', 'Tsunami', 'Plaza', 'LIVE', 'StarHuye', 'Office', 'Chameleone',\n",
    "              'Loperamide', 'httpsumutihealthcomibyokuryaiyoutwite', 'grosse', 'môlaire', 'hydatiforme', 'Brompheniramine', 'Chlorpheniramine',\n",
    "              'Phenylephrine', 'Dieu', 'Since', 'CLADHO', 'Ykee', 'Close', 'Platini', 'elsa', 'NIildephonse', 'HIFI', 'OEMBiremewe', 'Initiative',\n",
    "              'AdvertisementGutwita', 'Jassu', 'LikeLike', 'Tico', 'Create', 'Choline', 'Like', 'Chiffa', 'Costa', 'Wejsci', 'Wejscie', 'kandi', 'kuko',\n",
    "              'cyangwa', 'kandi', 'ndetse', 'gusa', 'cyane','cyane','gihe','ariko','hari']\n",
    "\n",
    "# Convert the list into a set to remove duplicates\n",
    "words_set2 = set(words_list2)\n"
   ]
  },
  {
   "cell_type": "code",
   "execution_count": 109,
   "id": "e3ee34e1",
   "metadata": {},
   "outputs": [
    {
     "name": "stderr",
     "output_type": "stream",
     "text": [
      "C:\\Users\\ihogo\\AppData\\Local\\Temp\\ipykernel_19096\\1267842314.py:35: SettingWithCopyWarning: \n",
      "A value is trying to be set on a copy of a slice from a DataFrame.\n",
      "Try using .loc[row_indexer,col_indexer] = value instead\n",
      "\n",
      "See the caveats in the documentation: https://pandas.pydata.org/pandas-docs/stable/user_guide/indexing.html#returning-a-view-versus-a-copy\n",
      "  cleaned_DataFrame['Content_cleaned'] = cleaned_DataFrame['Content_cleaned'].apply(remove_consonant_endings)\n"
     ]
    },
    {
     "data": {
      "text/html": [
       "<div>\n",
       "<style scoped>\n",
       "    .dataframe tbody tr th:only-of-type {\n",
       "        vertical-align: middle;\n",
       "    }\n",
       "\n",
       "    .dataframe tbody tr th {\n",
       "        vertical-align: top;\n",
       "    }\n",
       "\n",
       "    .dataframe thead th {\n",
       "        text-align: right;\n",
       "    }\n",
       "</style>\n",
       "<table border=\"1\" class=\"dataframe\">\n",
       "  <thead>\n",
       "    <tr style=\"text-align: right;\">\n",
       "      <th></th>\n",
       "      <th>Content</th>\n",
       "      <th>Stemmed_Text</th>\n",
       "      <th>Content_cleaned</th>\n",
       "    </tr>\n",
       "  </thead>\n",
       "  <tbody>\n",
       "    <tr>\n",
       "      <th>0</th>\n",
       "      <td>Nubwo kugeza bitaragaragara umubyeyi yakwanduz...</td>\n",
       "      <td>Nubwo kugeza bitaragaragara umubyeyi yakwanduz...</td>\n",
       "      <td>Nubwo kugeza bitaragaragara umubyeyi yakwanduz...</td>\n",
       "    </tr>\n",
       "    <tr>\n",
       "      <th>1</th>\n",
       "      <td>ngombwa umugore utwite akaza ingamba kwirinda ...</td>\n",
       "      <td>ngombwa umugore utwite akaza ingamba kwirinda ...</td>\n",
       "      <td>ngombwa umugore utwite akaza ingamba kwirinda ...</td>\n",
       "    </tr>\n",
       "    <tr>\n",
       "      <th>2</th>\n",
       "      <td>Dukomeze kwirinda coronavirus twubahiriza inga...</td>\n",
       "      <td>Dukomeze kwirinda coronavirus twubahiriza inga...</td>\n",
       "      <td>Dukomeze kwirinda  twubahiriza ingamba zashyiz...</td>\n",
       "    </tr>\n",
       "    <tr>\n",
       "      <th>3</th>\n",
       "      <td>Gukora imibonano mpuzabitsina gihe umugore atw...</td>\n",
       "      <td>Gukora imibonano mpuzabitsina gihe umugore atw...</td>\n",
       "      <td>Gukora imibonano mpuzabitsina umugore atwite i...</td>\n",
       "    </tr>\n",
       "    <tr>\n",
       "      <th>4</th>\n",
       "      <td>Nkuko bitangazwa nurubuga babycenterfr utwite ...</td>\n",
       "      <td>Nkuko bitangazwa nurubuga babycenterfr utwite ...</td>\n",
       "      <td>Nkuko bitangazwa nurubuga utwite inda ukaba ki...</td>\n",
       "    </tr>\n",
       "    <tr>\n",
       "      <th>...</th>\n",
       "      <td>...</td>\n",
       "      <td>...</td>\n",
       "      <td>...</td>\n",
       "    </tr>\n",
       "    <tr>\n",
       "      <th>2638</th>\n",
       "      <td>Uruhare rwamazi kongera ubwiza bwawe</td>\n",
       "      <td>Uruhare rwamazi kongera ubwiza bwawe</td>\n",
       "      <td>Uruhare amazi kongera ubwiza bwawe</td>\n",
       "    </tr>\n",
       "    <tr>\n",
       "      <th>2639</th>\n",
       "      <td>Impamvu zishobora gutera kubira ibyuya byinshi...</td>\n",
       "      <td>Impamvu zishobora gutera kubira ibyuya byinshi...</td>\n",
       "      <td>Impamvu zishobora gutera kubira ibyuya byinshi...</td>\n",
       "    </tr>\n",
       "    <tr>\n",
       "      <th>2640</th>\n",
       "      <td>Ibiryo  byingenzi mugore utwite</td>\n",
       "      <td>Ibiryo byingenzi mugore utwite</td>\n",
       "      <td>Ibiryo ingenzi mugore utwite</td>\n",
       "    </tr>\n",
       "    <tr>\n",
       "      <th>2641</th>\n",
       "      <td>Dore ibimenyetso bishobora kukwereka utwite</td>\n",
       "      <td>Dore ibimenyetso bishobora kukwereka utwite</td>\n",
       "      <td>Dore ibimenyetso bishobora kukwereka utwite</td>\n",
       "    </tr>\n",
       "    <tr>\n",
       "      <th>2642</th>\n",
       "      <td>Byinshi kwikinisha Ibyiza byabyo ibibi nuko w...</td>\n",
       "      <td>Byinshi kwikinisha Ibyiza byabyo ibibi nuko w...</td>\n",
       "      <td>Byinshi kwikinisha Ibyiza byabyo ibibi uko wab...</td>\n",
       "    </tr>\n",
       "  </tbody>\n",
       "</table>\n",
       "<p>2643 rows × 3 columns</p>\n",
       "</div>"
      ],
      "text/plain": [
       "                                                Content  \\\n",
       "0     Nubwo kugeza bitaragaragara umubyeyi yakwanduz...   \n",
       "1     ngombwa umugore utwite akaza ingamba kwirinda ...   \n",
       "2     Dukomeze kwirinda coronavirus twubahiriza inga...   \n",
       "3     Gukora imibonano mpuzabitsina gihe umugore atw...   \n",
       "4     Nkuko bitangazwa nurubuga babycenterfr utwite ...   \n",
       "...                                                 ...   \n",
       "2638              Uruhare rwamazi kongera ubwiza bwawe   \n",
       "2639  Impamvu zishobora gutera kubira ibyuya byinshi...   \n",
       "2640                   Ibiryo  byingenzi mugore utwite   \n",
       "2641        Dore ibimenyetso bishobora kukwereka utwite   \n",
       "2642  Byinshi kwikinisha Ibyiza byabyo ibibi nuko w...   \n",
       "\n",
       "                                           Stemmed_Text  \\\n",
       "0     Nubwo kugeza bitaragaragara umubyeyi yakwanduz...   \n",
       "1     ngombwa umugore utwite akaza ingamba kwirinda ...   \n",
       "2     Dukomeze kwirinda coronavirus twubahiriza inga...   \n",
       "3     Gukora imibonano mpuzabitsina gihe umugore atw...   \n",
       "4     Nkuko bitangazwa nurubuga babycenterfr utwite ...   \n",
       "...                                                 ...   \n",
       "2638              Uruhare rwamazi kongera ubwiza bwawe   \n",
       "2639  Impamvu zishobora gutera kubira ibyuya byinshi...   \n",
       "2640                    Ibiryo byingenzi mugore utwite   \n",
       "2641        Dore ibimenyetso bishobora kukwereka utwite   \n",
       "2642  Byinshi kwikinisha Ibyiza byabyo ibibi nuko w...   \n",
       "\n",
       "                                        Content_cleaned  \n",
       "0     Nubwo kugeza bitaragaragara umubyeyi yakwanduz...  \n",
       "1     ngombwa umugore utwite akaza ingamba kwirinda ...  \n",
       "2     Dukomeze kwirinda  twubahiriza ingamba zashyiz...  \n",
       "3     Gukora imibonano mpuzabitsina umugore atwite i...  \n",
       "4     Nkuko bitangazwa nurubuga utwite inda ukaba ki...  \n",
       "...                                                 ...  \n",
       "2638                 Uruhare amazi kongera ubwiza bwawe  \n",
       "2639  Impamvu zishobora gutera kubira ibyuya byinshi...  \n",
       "2640                       Ibiryo ingenzi mugore utwite  \n",
       "2641        Dore ibimenyetso bishobora kukwereka utwite  \n",
       "2642  Byinshi kwikinisha Ibyiza byabyo ibibi uko wab...  \n",
       "\n",
       "[2643 rows x 3 columns]"
      ]
     },
     "execution_count": 109,
     "metadata": {},
     "output_type": "execute_result"
    }
   ],
   "source": [
    "\n",
    "cleaned_DataFrame['Content_cleaned'] = cleaned_DataFrame['Stemmed_Text'].apply(lambda x: ' '.join([word for word in x.split() if word.lower() not in english_words]))\n",
    "cleaned_DataFrame['Content_cleaned'] = cleaned_DataFrame['Content_cleaned'].apply(lambda x: ' '.join([word for word in x.split() if word.lower() not in words_set]))\n",
    "cleaned_DataFrame['Content_cleaned'] = cleaned_DataFrame['Content_cleaned'].apply(lambda x: ' '.join([word for word in x.split() if word.lower() not in words_set2]))\n",
    "# Assuming 'Content_cleaned' is the column containing the text data\n",
    "cleaned_DataFrame['Content_cleaned'] = cleaned_DataFrame['Content_cleaned'].apply(lambda x: ' '.join(word for word in x.split() if len(word) > 2))\n",
    "\n",
    "# Function to remove short words while preserving words with at least one tab space\n",
    "def remove_short_words_with_tab(text):\n",
    "    words = text.split()\n",
    "    words_to_keep = [word for word in words if len(word) > 3]\n",
    "    return ' '.join(words_to_keep)\n",
    "\n",
    "# Apply the function to the 'Content_cleaned' column\n",
    "cleaned_DataFrame['Content_cleaned'] = cleaned_DataFrame['Content_cleaned'].apply(remove_short_words_with_tab)\n",
    "\n",
    "# Replace 'specific_word' with the word you want to remove from the DataFrame\n",
    "specific_word = 'guswera'\n",
    "\n",
    "# Assuming the 'Stemmed_Text' column is already present in the DataFrame\n",
    "\n",
    "# Use the 'str.contains' method to create a boolean mask identifying rows with the specific word\n",
    "mask = cleaned_DataFrame['Content_cleaned'].str.contains(specific_word, case=False)\n",
    "\n",
    "# Use the inverse of the mask to keep only the rows that don't contain the specific word\n",
    "cleaned_DataFrame = cleaned_DataFrame[~mask]\n",
    "\n",
    "# Reset the index if needed\n",
    "cleaned_DataFrame.reset_index(drop=True, inplace=True)\n",
    "\n",
    "# Function to remove words ending with a consonant\n",
    "def remove_consonant_endings(text):\n",
    "    return re.sub(r'\\b\\w*[^aeiouAEIOU\\s\\d_]\\b', '', text)\n",
    "\n",
    "# Apply the function to the 'Stemmed_Text' column\n",
    "cleaned_DataFrame['Content_cleaned'] = cleaned_DataFrame['Content_cleaned'].apply(remove_consonant_endings)\n",
    "\n",
    "# Print the DataFrame with the cleaned column\n",
    "cleaned_DataFrame"
   ]
  },
  {
   "cell_type": "code",
   "execution_count": 110,
   "id": "0e09cd64",
   "metadata": {},
   "outputs": [
    {
     "name": "stdout",
     "output_type": "stream",
     "text": [
      "Total number of words: 25899\n"
     ]
    }
   ],
   "source": [
    "# Sample corpus\n",
    "corpus = cleaned_DataFrame['Content_cleaned'].values\n",
    "\n",
    "# Tokenize and count words in the corpus\n",
    "total_words = 0\n",
    "word_count = {}\n",
    "for document in corpus:\n",
    "    tokens = word_tokenize(document)\n",
    "    total_words += len(tokens)\n",
    "    for token in tokens:\n",
    "        if token not in word_count:\n",
    "            word_count[token] = 1\n",
    "        else:\n",
    "            word_count[token] += 1\n",
    "\n",
    "print(\"Total number of words:\", total_words)\n"
   ]
  },
  {
   "cell_type": "code",
   "execution_count": 111,
   "id": "5f148d3b",
   "metadata": {},
   "outputs": [],
   "source": [
    "# Print the word count in descending order\n",
    "sorted_word_count = sorted(word_count.items(), key=lambda x: x[1], reverse=True)\n",
    "# for word, count in sorted_word_count:\n",
    "#     print(word, count)"
   ]
  },
  {
   "cell_type": "markdown",
   "id": "45b8f7ed",
   "metadata": {},
   "source": [
    "<h1>End of pre processing<h1>"
   ]
  },
  {
   "cell_type": "code",
   "execution_count": 112,
   "id": "9de094ff",
   "metadata": {},
   "outputs": [],
   "source": [
    "# \"email\" in english_words"
   ]
  },
  {
   "cell_type": "markdown",
   "id": "b83cc1e7",
   "metadata": {},
   "source": [
    "<h1>LDA topic modeling</h1>"
   ]
  },
  {
   "cell_type": "code",
   "execution_count": 113,
   "id": "63fe4ddb",
   "metadata": {},
   "outputs": [
    {
     "name": "stdout",
     "output_type": "stream",
     "text": [
      "Most common words:\n",
      "umwana: 384\n",
      "umugore: 367\n",
      "utwite: 323\n",
      "inda: 232\n",
      "igihe: 168\n",
      "neza: 141\n",
      "atwite: 138\n",
      "kugira: 138\n",
      "gutwita: 133\n",
      "umubyeyi: 130\n",
      "muganga: 126\n",
      "mbere: 121\n",
      "batwite: 109\n",
      "nyuma: 101\n",
      "imibonano: 100\n",
      "abagore: 96\n",
      "gukora: 88\n",
      "mpuzabitsina: 88\n",
      "ubuzima: 86\n",
      "kubyara: 86\n",
      "agomba: 77\n",
      "uburyo: 74\n",
      "umuntu: 71\n",
      "gusama: 70\n",
      "mugore: 68\n",
      "biba: 68\n",
      "bishobora: 67\n",
      "ikibazo: 66\n",
      "umubiri: 66\n",
      "munsi: 66\n",
      "ashobora: 63\n",
      "buryo: 61\n",
      "amakuru: 60\n",
      "inama: 59\n",
      "afite: 58\n",
      "amaraso: 55\n",
      "rwanda: 55\n",
      "kugeza: 54\n",
      "imiti: 54\n",
      "byiza: 53\n",
      "avuga: 53\n",
      "kurya: 53\n",
      "indwara: 53\n",
      "abana: 52\n",
      "ufite: 51\n",
      "kugirango: 50\n",
      "ukwezi: 49\n",
      "mwana: 48\n",
      "buzima: 48\n",
      "kubona: 48\n"
     ]
    },
    {
     "data": {
      "image/png": "[encoded data removed]",
      "text/plain": [
       "<Figure size 1008x432 with 1 Axes>"
      ]
     },
     "metadata": {
      "needs_background": "light"
     },
     "output_type": "display_data"
    }
   ],
   "source": [
    "# Sample corpus\n",
    "corpusi = cleaned_DataFrame['Content_cleaned'].values\n",
    "\n",
    "# Tokenize the corpus\n",
    "tokenized_text = [word_tokenize(document) for document in corpusi]\n",
    "\n",
    "# Calculate word frequencies\n",
    "word_freq = FreqDist([word.lower() for document in tokenized_text for word in document])\n",
    "\n",
    "# Display the most common words\n",
    "common_words = word_freq.most_common(50)\n",
    "print(\"Most common words:\")\n",
    "for word, freq in common_words:\n",
    "    print(f\"{word}: {freq}\")\n",
    "\n",
    "# Plot word frequency distribution\n",
    "plt.figure(figsize=(14, 6))\n",
    "plt.xlabel('Word')\n",
    "plt.ylabel('Frequency')\n",
    "word_freq.plot(50, cumulative=False)\n",
    "# plt.xlabel('Word')\n",
    "# plt.ylabel('Frequency')\n",
    "# plt.title('Word Frequency Distribution')\n",
    "# plt.xticks(rotation='vertical')\n",
    "plt.show()"
   ]
  },
  {
   "cell_type": "code",
   "execution_count": 114,
   "id": "917f54f5",
   "metadata": {},
   "outputs": [],
   "source": [
    "wordi=[]\n",
    "freqs=[]\n",
    "# Display the most common words\n",
    "common_words = word_freq.most_common(30)\n",
    "# print(\"Most common words:\")\n",
    "for word, freq in common_words:\n",
    "#     print(freq)\n",
    "    wordi.append(word)\n",
    "    freqs.append(freq)"
   ]
  },
  {
   "cell_type": "code",
   "execution_count": 115,
   "id": "4ccf8d61",
   "metadata": {},
   "outputs": [
    {
     "data": {
      "image/png": "[encoded data removed]",
      "text/plain": [
       "<Figure size 864x432 with 1 Axes>"
      ]
     },
     "metadata": {
      "needs_background": "light"
     },
     "output_type": "display_data"
    }
   ],
   "source": [
    "# Plot the word frequencies\n",
    "plt.figure(figsize=(12, 6))\n",
    "# plt.plot(wordi, freqs,color ='red')\n",
    "plt.bar(wordi, freqs)\n",
    "plt.xlabel('Words')\n",
    "plt.ylabel('Frequencies')\n",
    "plt.title('Word Frequencies')\n",
    "plt.xticks(rotation=90, ha=\"right\")  # Rotate x labels for better readability\n",
    "plt.tight_layout()\n",
    "plt.show()\n"
   ]
  },
  {
   "cell_type": "code",
   "execution_count": 2,
   "id": "fdf3ea39",
   "metadata": {},
   "outputs": [],
   "source": [
    "#combine all the articles\n",
    "article_data = \"\"\n",
    "for article in list(cleaned_DataFrame['Content_cleaned'].values):\n",
    "    article_data = article_data+\" \"+article\n",
    "\n",
    "#ploting the word cloud\n",
    "plt.figure(figsize=(10, 10))\n",
    "wordcloud = WordCloud(width = 1000, height = 700, background_color='white', colormap=\"ocean\",  random_state=10).generate(article_data)\n",
    "plt.imshow(wordcloud)\n",
    "plt.axis(\"off\")\n",
    "plt.show()"
   ]
  },
  {
   "cell_type": "code",
   "execution_count": 130,
   "id": "a8447259",
   "metadata": {},
   "outputs": [
    {
     "name": "stdout",
     "output_type": "stream",
     "text": [
      "Topic 1: umwana, utwite, umugore, neza, umubyeyi, kugira, agomba, inda, muganga, igihe\n",
      "Topic 2: umugore, utwite, umwana, gukora, imibonano, mpuzabitsina, inda, nyuma, atwite, mbere\n",
      "Topic 3: umwana, neza, abana, kugira, utwite, vitamini, muganga, batwite, umubyeyi, gutwita\n",
      "Topic 4: umugore, utwite, inda, umwana, atwite, batwite, abagore, ubuzima, igihe, kubyimba\n",
      "Topic 5: inda, igihe, gutwita, umugore, kugira, utwite, umuntu, umwana, ibimenyetso, mbere\n"
     ]
    }
   ],
   "source": [
    "import numpy as np\n",
    "import matplotlib.pyplot as plt\n",
    "from sklearn.decomposition import LatentDirichletAllocation\n",
    "from sklearn.feature_extraction.text import CountVectorizer\n",
    "from nltk.tokenize import word_tokenize\n",
    "\n",
    "# Sample corpus\n",
    "corpusi = cleaned_DataFrame['Content_cleaned'].values\n",
    "\n",
    "# Tokenize the corpus\n",
    "tokenized_text = [word_tokenize(document) for document in corpusi]\n",
    "\n",
    "# Convert tokenized text to a list of space-separated strings\n",
    "text_as_strings = [\" \".join(tokens) for tokens in tokenized_text]\n",
    "\n",
    "# Create a CountVectorizer to convert text to a bag of words\n",
    "vectorizer = CountVectorizer()\n",
    "X = vectorizer.fit_transform(text_as_strings)\n",
    "\n",
    "# Instantiate the LDA model\n",
    "lda_model = LatentDirichletAllocation(\n",
    "    n_components=5,  # Number of topics\n",
    "    doc_topic_prior=None,\n",
    "    topic_word_prior=0.001,\n",
    "    learning_method='batch',\n",
    "    learning_decay= 0.7,\n",
    "    learning_offset=10.0,\n",
    "    max_iter=10,\n",
    "    batch_size=128,\n",
    "    evaluate_every=-1,\n",
    "    perp_tol=1e-1,\n",
    "    mean_change_tol=1e-3,\n",
    "    max_doc_update_iter=100,\n",
    "    n_jobs=None,\n",
    "    verbose=0,\n",
    "    random_state=42\n",
    ")\n",
    "\n",
    "# Fit the LDA model to the document-term matrix\n",
    "lda_result = lda_model.fit_transform(X)\n",
    "\n",
    "\n",
    "# Print the top words for each topic\n",
    "feature_names = vectorizer.get_feature_names_out()\n",
    "n_top_words = 10  # Define the number of top words to print for each topic\n",
    "\n",
    "Topic_Content =[]\n",
    "\n",
    "for topic_idx, topic in enumerate(lda_model.components_):\n",
    "    top_words_idx = topic.argsort()[:-n_top_words - 1:-1]\n",
    "    top_words = [feature_names[i] for i in top_words_idx]\n",
    "    print(f\"Topic {topic_idx + 1}: {', '.join(top_words)}\")\n"
   ]
  },
  {
   "cell_type": "code",
   "execution_count": 129,
   "id": "fdea56d3",
   "metadata": {},
   "outputs": [
    {
     "data": {
      "text/plain": [
       "array(['aba', 'ababa', 'ababajwe', ..., 'échographie', 'éclampsie',\n",
       "       'évolutive'], dtype=object)"
      ]
     },
     "execution_count": 129,
     "metadata": {},
     "output_type": "execute_result"
    }
   ],
   "source": [
    "# lda_model.components_\n",
    "feature_names"
   ]
  },
  {
   "cell_type": "code",
   "execution_count": 118,
   "id": "c84cfcdf",
   "metadata": {},
   "outputs": [
    {
     "data": {
      "image/png": "[encoded data removed]",
      "text/plain": [
       "<Figure size 720x432 with 1 Axes>"
      ]
     },
     "metadata": {
      "needs_background": "light"
     },
     "output_type": "display_data"
    }
   ],
   "source": [
    "\n",
    "# Now you can create a stacked bar plot showing the distribution of topics in the corpus\n",
    "topic_labels = [f\"Topic {i+1}\" for i in range(lda_model.n_components)]\n",
    "topic_dist_sum = np.sum(lda_result, axis=0)\n",
    "plt.figure(figsize=(10, 6))\n",
    "plt.bar(range(lda_model.n_components), topic_dist_sum, tick_label=topic_labels)\n",
    "plt.xlabel('Topics')\n",
    "plt.ylabel('Total Documents')\n",
    "plt.title('Distribution of Topics in the Corpus')\n",
    "plt.show()\n"
   ]
  },
  {
   "cell_type": "code",
   "execution_count": 131,
   "id": "a83a27f8",
   "metadata": {},
   "outputs": [
    {
     "name": "stdout",
     "output_type": "stream",
     "text": [
      "Coherence Score: 0.30893381097398137\n"
     ]
    }
   ],
   "source": [
    "from gensim.models.coherencemodel import CoherenceModel\n",
    "dictionary = corpora.Dictionary(tokenized_text)\n",
    "# Get topics from LDA model in the required format for CoherenceModel\n",
    "def get_lda_topics(model, num_topics, topn=10):\n",
    "    topics = []\n",
    "    for topic_idx, topic in enumerate(model.components_):\n",
    "        topic_words = [feature_names[i] for i in topic.argsort()[:-topn - 1:-1]]\n",
    "        topics.append(topic_words)\n",
    "    return topics\n",
    "\n",
    "# Get topics in the required format\n",
    "topics = get_lda_topics(lda_model, lda_model.n_components)\n",
    "\n",
    "# Coherence Score\n",
    "coherence_model = CoherenceModel(topics=topics, texts=tokenized_text, dictionary=dictionary, coherence='c_v')\n",
    "coherence_score = coherence_model.get_coherence()\n",
    "print(f\"Coherence Score: {coherence_score}\")\n"
   ]
  },
  {
   "cell_type": "code",
   "execution_count": 120,
   "id": "4f8102ab",
   "metadata": {},
   "outputs": [
    {
     "name": "stdout",
     "output_type": "stream",
     "text": [
      "(0, 1)\n",
      "(0, 2)\n",
      "(0, 3)\n",
      "(0, 4)\n",
      "(1, 2)\n",
      "(1, 3)\n",
      "(1, 4)\n",
      "(2, 3)\n",
      "(2, 4)\n",
      "(3, 4)\n"
     ]
    }
   ],
   "source": [
    "from itertools import combinations\n",
    "\n",
    "# Assuming 'n_top_words' is defined earlier in your code\n",
    "n_top_words = 10\n",
    "\n",
    "# Get the topics from the LDA model\n",
    "topics = [topic.argsort()[:-n_top_words - 1:-1] for topic in lda_model.components_]\n",
    "\n",
    "# Create pairs of topics\n",
    "topic_pairs = list(combinations(range(len(topics)), 2))\n",
    "\n",
    "# Print and save the pairs\n",
    "for pair in topic_pairs:\n",
    "    print(pair)\n",
    "\n",
    "# Save the pairs in a variable\n",
    "topic_pairs_variable = topic_pairs"
   ]
  },
  {
   "cell_type": "code",
   "execution_count": 121,
   "id": "b493f942",
   "metadata": {},
   "outputs": [
    {
     "data": {
      "text/plain": [
       "array([[0.20000203, 0.20000102, 0.20000199, ..., 0.2000015 , 0.20124553,\n",
       "        0.20000093],\n",
       "       [1.19998835, 0.20000097, 0.20000185, ..., 2.19999118, 0.20000524,\n",
       "        0.20000095],\n",
       "       [0.20000388, 0.2000023 , 0.20000395, ..., 0.20000298, 1.35118577,\n",
       "        0.20000188],\n",
       "       [0.20000288, 0.20000149, 0.20000287, ..., 0.20000213, 0.2029208 ,\n",
       "        0.20000133],\n",
       "       [0.20000285, 2.19999422, 1.19998934, ..., 0.2000022 , 4.04464265,\n",
       "        1.19999491]])"
      ]
     },
     "execution_count": 121,
     "metadata": {},
     "output_type": "execute_result"
    }
   ],
   "source": [
    "lda_model.components_"
   ]
  },
  {
   "cell_type": "code",
   "execution_count": 122,
   "id": "e649452d",
   "metadata": {},
   "outputs": [
    {
     "name": "stdout",
     "output_type": "stream",
     "text": [
      "Average Topic Diversity (Hellinger Distance): 0.5379998145618252\n"
     ]
    }
   ],
   "source": [
    "from gensim.matutils import hellinger\n",
    "\n",
    "# Function to calculate Hellinger distance between two topics\n",
    "def calculate_hellinger_distance(topic1, topic2):\n",
    "    dist = hellinger(topic_pairs_variable[topic1],topic_pairs_variable[topic2])\n",
    "    return dist\n",
    "\n",
    "# Calculate average Hellinger distance between all pairs of topics\n",
    "average_hellinger_distance = sum(calculate_hellinger_distance(i, j) for i, j in topic_pairs_variable) / len(topic_pairs_variable)\n",
    "print(f\"Average Topic Diversity (Hellinger Distance): {average_hellinger_distance}\")\n"
   ]
  },
  {
   "cell_type": "code",
   "execution_count": 123,
   "id": "11ec49c9",
   "metadata": {},
   "outputs": [
    {
     "name": "stdout",
     "output_type": "stream",
     "text": [
      "Average Topical Consistency (Word Overlap): 0.41\n"
     ]
    }
   ],
   "source": [
    "# Topical Consistency (Word Overlap)\n",
    "def calculate_word_overlap(topic1, topic2, lda_model):\n",
    "    words1 = [feature_names[i] for i in topic1.argsort()[:-11:-1]]  # Adjust the range to get top words\n",
    "    words2 = [feature_names[i] for i in topic2.argsort()[:-11:-1]]  # Adjust the range to get top words\n",
    "    overlap = len(set(words1).intersection(set(words2)))\n",
    "    return overlap / min(len(words1), len(words2))\n",
    "\n",
    "# Assuming you have feature_names available from the vectorizer used in LDA\n",
    "# Replace it with your actual feature_names\n",
    "\n",
    "# Calculate average word overlap between all pairs of topics\n",
    "average_word_overlap = sum(calculate_word_overlap(lda_model.components_[i], lda_model.components_[j], lda_model) for i, j in topic_pairs_variable) / len(topic_pairs_variable)\n",
    "print(f\"Average Topical Consistency (Word Overlap): {average_word_overlap}\")\n"
   ]
  },
  {
   "cell_type": "code",
   "execution_count": 124,
   "id": "4a07f42d",
   "metadata": {},
   "outputs": [],
   "source": [
    "# # Calculate perplexity and scale it\n",
    "# perplexity = lda_model.perplexity(X)\n",
    "# scaled_perplexity = 1 / perplexity\n",
    "\n",
    "# print(f\"Scaled Perplexity: {scaled_perplexity}\")"
   ]
  },
  {
   "cell_type": "markdown",
   "id": "c250dd79",
   "metadata": {},
   "source": [
    "# pyLDAvs"
   ]
  },
  {
   "cell_type": "code",
   "execution_count": 125,
   "id": "97213bfd",
   "metadata": {},
   "outputs": [],
   "source": [
    "# pip install pyLDAvis"
   ]
  },
  {
   "cell_type": "code",
   "execution_count": 1,
   "id": "f9f13e7c",
   "metadata": {},
   "outputs": [],
   "source": [
    "from sklearn.decomposition import LatentDirichletAllocation\n",
    "from sklearn.feature_extraction.text import CountVectorizer\n",
    "from gensim.corpora import Dictionary\n",
    "from gensim.models.ldamodel import LdaModel\n",
    "from gensim.matutils import Sparse2Corpus\n",
    "# import pyLDAvis.gensim_models as gensimvis\n",
    "\n",
    "# Assuming 'documents' is your list of preprocessed documents\n",
    "vectorizer = CountVectorizer()\n",
    "X = vectorizer.fit_transform(text_as_strings)\n",
    "\n",
    "# Create a Gensim dictionary from the vectorizer vocabulary\n",
    "gensim_dict = Dictionary.from_corpus(Sparse2Corpus(X, documents_columns=False), id2word=dict((i, word) for i, word in enumerate(vectorizer.get_feature_names_out())))\n",
    "\n",
    "# Specify the number of topics\n",
    "num_topics = 4\n",
    "lda_model_sklearn = LatentDirichletAllocation(n_components=num_topics,  doc_topic_prior=None,\n",
    "    topic_word_prior=None,\n",
    "    learning_method='batch',\n",
    "    learning_decay=0.9,\n",
    "    learning_offset=10.0,\n",
    "    max_iter=100,\n",
    "    batch_size=256,\n",
    "    evaluate_every=-1,\n",
    "    perp_tol=1e-1,\n",
    "    mean_change_tol=1e-3,\n",
    "    max_doc_update_iter=100,\n",
    "    n_jobs=None,\n",
    "    verbose=0, random_state=42)\n",
    "lda_sklearn_transformed = lda_model_sklearn.fit_transform(X)\n",
    "\n",
    "# Convert scikit-learn LDA model to Gensim\n",
    "corpus = Sparse2Corpus(X, documents_columns=False)\n",
    "lda_model_gensim = LdaModel(corpus, id2word=gensim_dict, num_topics=n_components)\n",
    "\n",
    "# Transform the Gensim LDA model to the pyLDAvis format\n",
    "vis_data = gensimvis.prepare(lda_model, corpus, dictionary=dictionary)\n",
    "\n",
    "\n"
   ]
  },
  {
   "cell_type": "code",
   "execution_count": 133,
   "id": "8a049c8b",
   "metadata": {},
   "outputs": [],
   "source": [
    "import pyLDAvis\n",
    "import pyLDAvis.gensim_models as gensimvish\n",
    "\n",
    "# Save the visualization to an HTML file\n",
    "# pyLDAvis.save_html(vis_data, 'lda_visualization_2.html')"
   ]
  },
  {
   "cell_type": "code",
   "execution_count": null,
   "id": "308dc016",
   "metadata": {},
   "outputs": [],
   "source": []
  },
  {
   "cell_type": "code",
   "execution_count": null,
   "id": "9541cc5b",
   "metadata": {},
   "outputs": [],
   "source": []
  }
 ],
 "metadata": {
  "kernelspec": {
   "display_name": "Python 3 (ipykernel)",
   "language": "python",
   "name": "python3"
  },
  "language_info": {
   "codemirror_mode": {
    "name": "ipython",
    "version": 3
   },
   "file_extension": ".py",
   "mimetype": "text/x-python",
   "name": "python",
   "nbconvert_exporter": "python",
   "pygments_lexer": "ipython3",
   "version": "3.9.12"
  }
 },
 "nbformat": 4,
 "nbformat_minor": 5
}
